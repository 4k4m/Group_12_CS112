{
  "cells": [
    {
      "cell_type": "markdown",
      "metadata": {
        "id": "view-in-github",
        "colab_type": "text"
      },
      "source": [
        "<a href=\"https://colab.research.google.com/github/4k4m/Group_12_CS112/blob/main/Week_4/Problem_C.ipynb\" target=\"_parent\"><img src=\"https://colab.research.google.com/assets/colab-badge.svg\" alt=\"Open In Colab\"/></a>"
      ]
    },
    {
      "cell_type": "markdown",
      "id": "2a17c954",
      "metadata": {
        "id": "2a17c954"
      },
      "source": [
        "Given a segment $AB$ of length $x$ and $I$ is a point on the segment. Let $M$, $N$ be the midpoints of $AI$ and $BI$ respectively. We can easily prove that the length of the segment $MN$ is $x / 2$.\n",
        "\n",
        "Assuming that no stall can be at the same location with a university or with another stalls (as the figure in the problem statement shows us), it can be clearly seen that we cannot make students in 2 universities on 2 sides of a single current stall to buy our cakes as we will be farther from one of the two. That leads to the fact that we can only make students within the range of two consecutive stalls to buy our cakes. Therefore our task is to find the maximum number of students to buy our cakes in each range, and the maximum result of the ranges will be our answer.\n",
        "\n",
        "So how will we handle each range? Let the distance between the two consecutive stalls be $x$. According to our first inference, the length in which students will buy our cakes is $x / 2$, which lead to the maximum number of universities we can cover being $k = floor(x / 200 + 1)$ (of course if there are enough universities for us to cover). Therefore, we just need to calculate the total number of student in every k consecutive universities and find the maximum result."
      ]
    },
    {
      "cell_type": "code",
      "execution_count": 1,
      "id": "47edde4f",
      "metadata": {
        "id": "47edde4f"
      },
      "outputs": [],
      "source": [
        "from math import floor\n",
        "\n",
        "# Problem class so that we don't have to create global variables\n",
        "class Problem:\n",
        "    \"\"\"\n",
        "    Solution to the problem with input data from stdin\n",
        "\n",
        "    Attributes\n",
        "        n_universites: int\n",
        "            The number of universities\n",
        "        n_stalls: int\n",
        "            The number of current cake stalls\n",
        "        university_list: list\n",
        "            A list containing location and student population of the universities\n",
        "        stall_list: list\n",
        "            A list containing location of the current cake stalls\n",
        "        ranges: dict\n",
        "            A dict with\n",
        "                keys: the boundaries (left, right) of the ranges\n",
        "                values: lists of information (location, student population) about universities in each range\n",
        "    \"\"\"\n",
        "    def __init__(self):\n",
        "        self.n_universities, self.n_stalls = map(int, input().split())\n",
        "        # Store numbers of students associated with locations\n",
        "        self.university_list = [(i * 100, int(j)) for i, j in enumerate(input().split())]\n",
        "        self.stall_list = [int(i) for i in input().split()]\n",
        "        # Add these two numbers to mark the leftmost and the rightmost range\n",
        "        self.stall_list.extend((-1, 200000))\n",
        "        self.stall_list.sort()\n",
        "        # Divide universities into each range\n",
        "        self.ranges = self.divide_range()\n",
        "\n",
        "\n",
        "\n",
        "    def divide_range(self) -> dict:\n",
        "        \"\"\"\n",
        "        Divide universities into each range\n",
        "\n",
        "        Parameters:\n",
        "            None\n",
        "\n",
        "        Return:\n",
        "            A dict with\n",
        "                keys: the boundaries (left, right) of the ranges\n",
        "                values: lists of information (location, student population) about universities in each range\n",
        "        \"\"\"\n",
        "        ranges = {}\n",
        "\n",
        "        # Initialize each range\n",
        "        for range_count in range(self.n_stalls + 1):\n",
        "            left = self.stall_list[range_count] # left stall\n",
        "            right = self.stall_list[range_count + 1] # right stall\n",
        "            ranges[(left, right)] = []\n",
        "\n",
        "        # Put univesities into their proper ranges\n",
        "        boundaries = list(ranges.keys())\n",
        "        range_index = 0\n",
        "        for uni in self.university_list:\n",
        "            while uni[0] > boundaries[range_index][1]: # out of a range\n",
        "                range_index += 1\n",
        "            ranges[boundaries[range_index]].append(uni)\n",
        "\n",
        "        return ranges\n",
        "\n",
        "\n",
        "\n",
        "    def find_range_max(self, boundary: tuple) -> int:\n",
        "        \"\"\"\n",
        "        Find the maximum number of students to buy our cakes in a range\n",
        "\n",
        "        Parameters:\n",
        "            boundary: tuple\n",
        "                A tuple of left boundary and right boundary of the range\n",
        "\n",
        "        Return:\n",
        "            The maximum number of students to buy our cakes in the range\n",
        "        \"\"\"\n",
        "        # If the range is the leftmost or the rightmost range, we can cover the whole range\n",
        "        if boundary[0] == -1 or boundary[1] == 200000:\n",
        "            return(sum(uni[1] for uni in self.ranges[boundary]))\n",
        "\n",
        "        # Calculate k = floor(x / 200) + 1\n",
        "        max_uni_to_take = floor((boundary[1] - boundary[0]) / 200) + 1\n",
        "\n",
        "        # If there are fewer universities than k, we can cover the whole range\n",
        "        if len(self.ranges[boundary]) < max_uni_to_take:\n",
        "            return sum(uni[1] for uni in self.ranges[boundary])\n",
        "\n",
        "        # Find maximum number of students of all k consecutive universities\n",
        "        current_value = sum(uni[1] for uni in self.ranges[boundary][0:max_uni_to_take])\n",
        "        max_value = current_value\n",
        "        for i in range(0, len(self.ranges[boundary]) - max_uni_to_take):\n",
        "            current_value = current_value - self.ranges[boundary][i][1] + self.ranges[boundary][i + max_uni_to_take][1]\n",
        "            max_value = max(max_value, current_value)\n",
        "\n",
        "        return max_value\n",
        "\n",
        "\n",
        "\n",
        "    def solve(self):\n",
        "        \"\"\"\n",
        "        Print the solution to stdout\n",
        "\n",
        "        Parameters:\n",
        "            None\n",
        "\n",
        "        Return:\n",
        "            None\n",
        "        \"\"\"\n",
        "        print(max([self.find_range_max(boundary) for boundary in self.ranges.keys()]))"
      ]
    },
    {
      "cell_type": "code",
      "execution_count": 2,
      "id": "bcd84a84",
      "metadata": {
        "colab": {
          "base_uri": "https://localhost:8080/"
        },
        "id": "bcd84a84",
        "outputId": "82bf38e9-474b-453e-de57-e16cfe1d07da"
      },
      "outputs": [
        {
          "name": "stdout",
          "output_type": "stream",
          "text": [
            "4 2\n",
            "1 2 7 8\n",
            "35 157\n"
          ]
        }
      ],
      "source": [
        "problem = Problem()"
      ]
    },
    {
      "cell_type": "code",
      "execution_count": 3,
      "id": "17be0a7c",
      "metadata": {
        "colab": {
          "base_uri": "https://localhost:8080/"
        },
        "id": "17be0a7c",
        "outputId": "b29a1a6a-0eda-49f1-df9d-f07544580da6"
      },
      "outputs": [
        {
          "output_type": "stream",
          "name": "stdout",
          "text": [
            "15\n"
          ]
        }
      ],
      "source": [
        "problem.solve()"
      ]
    }
  ],
  "metadata": {
    "kernelspec": {
      "display_name": "Python 3 (ipykernel)",
      "language": "python",
      "name": "python3"
    },
    "language_info": {
      "codemirror_mode": {
        "name": "ipython",
        "version": 3
      },
      "file_extension": ".py",
      "mimetype": "text/x-python",
      "name": "python",
      "nbconvert_exporter": "python",
      "pygments_lexer": "ipython3",
      "version": "3.11.4"
    },
    "colab": {
      "provenance": [],
      "include_colab_link": true
    }
  },
  "nbformat": 4,
  "nbformat_minor": 5
}