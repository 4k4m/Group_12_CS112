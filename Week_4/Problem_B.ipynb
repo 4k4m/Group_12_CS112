{
  "nbformat": 4,
  "nbformat_minor": 0,
  "metadata": {
    "colab": {
      "provenance": []
    },
    "kernelspec": {
      "name": "python3",
      "display_name": "Python 3"
    },
    "language_info": {
      "name": "python"
    }
  },
  "cells": [
    {
      "cell_type": "code",
      "execution_count": 17,
      "metadata": {
        "id": "hidJ6-4kP7N8"
      },
      "outputs": [],
      "source": [
        "class Problem:\n",
        "    \"\"\"\n",
        "     Solution to the problem with input data\n",
        "\n",
        "    \"\"\"\n",
        "    def __init__(self):\n",
        "        # n: the length of the input string\n",
        "        # m: the number of wrong buttons Tam had typed\n",
        "        self.n, self.m = map(int, input().split())\n",
        "        self.s = input()  # the combo string required\n",
        "        self.count = {'q': 0, 'w': 0, 'e': 0, 'r': 0}  # Dictionary to save the appearances of each character typed by Tam\n",
        "        self.wrong = [int(x) - 1 for x in input().split()]  # An array to save the locations of the wrong button presses\n",
        "        self.sum_wrong = 0  # Initialize a variable to count the total wrong button presses\n",
        "        for x in self.wrong:\n",
        "            self.sum_wrong += (x + 1)  # Calculate the sum of wrong button presses\n",
        "\n",
        "        # Initialize two pointers:\n",
        "        # pointer1 will point to the index of the string s\n",
        "        # pointer2 will point to the index of the wrong array\n",
        "        self.pointer1, self.pointer2 = 0, 0\n",
        "\n",
        "    def solve(self):\n",
        "        \"\"\"\n",
        "        The total iterations = sum_wrong + n because every time Tam makes a mistake, he has to retype the string again,\n",
        "        and continually type until he completes the combo.\n",
        "        At each iteration, we will check the two pointers initialized above.\n",
        "        \"\"\"\n",
        "        for _ in range(self.sum_wrong + self.n):\n",
        "            # If pointer1 equals n, it means the combo has already been completed, so we break and print the result.\n",
        "            if self.pointer1 == self.n:\n",
        "                break\n",
        "\n",
        "            # If pointer2 < m and the index of the combo string equals the wrong location,\n",
        "            # increase the appearance of that typed character to 1, and move the pointer2 to the next wrong location.\n",
        "            if (self.pointer2 < self.m and self.pointer1 == self.wrong[self.pointer2]):\n",
        "                self.count[self.s[self.pointer1]] += 1\n",
        "                self.pointer2 += 1\n",
        "\n",
        "                # If pointer1 is also at the last index of the combo string (combo completed), break and print the result.\n",
        "                if self.pointer1 + 1 == self.n:\n",
        "                    break\n",
        "\n",
        "                # Since this is a wrong location, Tam has to retype the string,\n",
        "                # so pointer1 will be set to 0 again to start typing from the beginning.\n",
        "                self.pointer1 = 0\n",
        "            else:\n",
        "                # Otherwise, Tam typed correctly, increase the appearance of the character typed by 1,\n",
        "                # and move pointer1 to the next character in the combo string.\n",
        "                self.count[self.s[self.pointer1]] += 1\n",
        "                self.pointer1 += 1\n",
        "\n",
        "        # Print the result\n",
        "        for i in self.count.values():\n",
        "            print(i, end=' ')"
      ]
    },
    {
      "cell_type": "code",
      "source": [
        "prob = Problem()"
      ],
      "metadata": {
        "colab": {
          "base_uri": "https://localhost:8080/"
        },
        "id": "2UzHbhUbW7C4",
        "outputId": "7bca017a-3fbe-45e0-8943-11500113ac07"
      },
      "execution_count": 18,
      "outputs": [
        {
          "name": "stdout",
          "output_type": "stream",
          "text": [
            "4 2\n",
            "qwer\n",
            "1 3\n"
          ]
        }
      ]
    },
    {
      "cell_type": "code",
      "source": [
        "prob.solve()"
      ],
      "metadata": {
        "colab": {
          "base_uri": "https://localhost:8080/"
        },
        "id": "ytOUzCnwXTAr",
        "outputId": "f5e6a621-a14c-4c58-bf6a-4a900d3f6866"
      },
      "execution_count": 19,
      "outputs": [
        {
          "output_type": "stream",
          "name": "stdout",
          "text": [
            "3 2 2 1 "
          ]
        }
      ]
    }
  ]
}