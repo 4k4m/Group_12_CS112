{
  "cells": [
    {
      "cell_type": "markdown",
      "id": "3af85214",
      "metadata": {
        "id": "3af85214"
      },
      "source": [
        "Our approach for this problem is quite straightforward. We can create a list to store the machines, and reconstruct the list after each movement. By doing so we can easily calculate the time needed to serve each customer."
      ]
    },
    {
      "cell_type": "code",
      "execution_count": 12,
      "id": "826f7f74",
      "metadata": {
        "id": "826f7f74"
      },
      "outputs": [],
      "source": [
        "# Problem class so that we don't have to create global variables\n",
        "class Problem:\n",
        "    \"\"\"\n",
        "    Solution to the problem with input data from stdin\n",
        "\n",
        "    Attributes\n",
        "        n_customers: int\n",
        "            The number of customers\n",
        "        n_cakes: int\n",
        "            The number of cakes each customer orders\n",
        "        n_types: int\n",
        "            The number of machines\n",
        "        machine_list: list\n",
        "            A list to store the machine ids\n",
        "        purchase_list: list\n",
        "            A 2D list to store machine ids with respect to the cakes each customer orders\n",
        "    \"\"\"\n",
        "    def __init__(self):\n",
        "        self.n_customers, self.n_cakes, self.n_machines = map(int, input().split())\n",
        "        self.machine_list = [int(i) for i in input().split()]\n",
        "        self.purchase_list = []\n",
        "        for i in range(self.n_customers):\n",
        "            self.purchase_list.append([int(i) for i in input().split()])\n",
        "\n",
        "\n",
        "\n",
        "    def bring_to_front(self, machine: int) -> int:\n",
        "        \"\"\"\n",
        "        Reconstruct the machine list when a machine is moved to the front.\n",
        "        The position of the machine is also the time needed to move it.\n",
        "\n",
        "        Parameters\n",
        "            machine: int\n",
        "                the id of the machine to move\n",
        "\n",
        "        Return\n",
        "            The position of the machine\n",
        "        \"\"\"\n",
        "        machine_pos = self.machine_list.index(machine)\n",
        "\n",
        "        # Move all the previous machines 1 step backward\n",
        "        for pos in range(machine_pos - 1, -1, -1):\n",
        "            self.machine_list[pos + 1] = self.machine_list[pos]\n",
        "\n",
        "        self.machine_list[0] = machine\n",
        "        return machine_pos\n",
        "\n",
        "\n",
        "\n",
        "    def calc_serving_time(self) -> list:\n",
        "        \"\"\"\n",
        "        Calculate times needed to serve each customer\n",
        "\n",
        "        Parameters\n",
        "            None\n",
        "\n",
        "        Return\n",
        "            A list of times needed for each customer\n",
        "        \"\"\"\n",
        "        serving_times = []\n",
        "        for customer in self.purchase_list:\n",
        "            serving_times.append(sum([self.bring_to_front(machine) for machine in customer]) + self.n_cakes)\n",
        "        return serving_times\n",
        "\n",
        "\n",
        "\n",
        "\n",
        "    def solve(self) -> None:\n",
        "        \"\"\"\n",
        "        Print the solution to stdout\n",
        "\n",
        "        Parameters\n",
        "            None\n",
        "\n",
        "        Return\n",
        "            None\n",
        "        \"\"\"\n",
        "        serving_times = self.calc_serving_time()\n",
        "        if len(serving_times) == 0:\n",
        "            print(-1)\n",
        "        else:\n",
        "            print(' '.join([str(i) for i in serving_times]))"
      ]
    },
    {
      "cell_type": "code",
      "source": [
        "problem = Problem()"
      ],
      "metadata": {
        "colab": {
          "base_uri": "https://localhost:8080/"
        },
        "id": "d2rRzplzQ8py",
        "outputId": "4689f137-6fd5-4acd-8ae9-81e71ce3cd81"
      },
      "id": "d2rRzplzQ8py",
      "execution_count": 13,
      "outputs": [
        {
          "name": "stdout",
          "output_type": "stream",
          "text": [
            "2 2 5\n",
            "3 4 1 2 5\n",
            "1 5\n",
            "3 1\n"
          ]
        }
      ]
    },
    {
      "cell_type": "code",
      "source": [
        "problem.solve()"
      ],
      "metadata": {
        "colab": {
          "base_uri": "https://localhost:8080/"
        },
        "id": "SNE-jp_BRPpc",
        "outputId": "cc1b606c-ea6e-4281-93a4-b66bb2a8dff3"
      },
      "id": "SNE-jp_BRPpc",
      "execution_count": 14,
      "outputs": [
        {
          "output_type": "stream",
          "name": "stdout",
          "text": [
            "8 6\n"
          ]
        }
      ]
    }
  ],
  "metadata": {
    "kernelspec": {
      "display_name": "Python 3 (ipykernel)",
      "language": "python",
      "name": "python3"
    },
    "language_info": {
      "codemirror_mode": {
        "name": "ipython",
        "version": 3
      },
      "file_extension": ".py",
      "mimetype": "text/x-python",
      "name": "python",
      "nbconvert_exporter": "python",
      "pygments_lexer": "ipython3",
      "version": "3.11.4"
    },
    "colab": {
      "provenance": []
    }
  },
  "nbformat": 4,
  "nbformat_minor": 5
}