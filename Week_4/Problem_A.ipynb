{
  "nbformat": 4,
  "nbformat_minor": 0,
  "metadata": {
    "colab": {
      "provenance": []
    },
    "kernelspec": {
      "name": "python3",
      "display_name": "Python 3"
    },
    "language_info": {
      "name": "python"
    }
  },
  "cells": [
    {
      "cell_type": "code",
      "execution_count": 8,
      "metadata": {
        "id": "Oh_doWKs7tzO"
      },
      "outputs": [],
      "source": [
        "class Problem:\n",
        "    \"\"\"\n",
        "     Solution to the problem with input data\n",
        "\n",
        "    \"\"\"\n",
        "    def __init__(self):\n",
        "        # A paper has n rows and m columns.\n",
        "        # k is the total number of Thang's steps.\n",
        "        self.n, self.m, self.k = map(int, input().split())\n",
        "        self.paper = [[0 for _ in range(self.m)] for _ in range(self.n)]\n",
        "        # The number of steps that Thang needs to go to create a square (which is our result).\n",
        "        self.step = 0\n",
        "        # The flag is True if we have found a square.\n",
        "        self.flag = False\n",
        "\n",
        "    def check(self, i, j):\n",
        "        \"\"\"\n",
        "        The check function checks if the current step at [i, j] will create a completed 2x2 square or not.\n",
        "        It examines the 4 surrounding squares to see if the current step is part of any of these squares.\n",
        "        If the current step is part of a 2x2 square, it returns True.\n",
        "        \"\"\"\n",
        "        if (\n",
        "            (i - 1 >= 0 and j - 1 >= 0 and self.paper[i - 1][j] == 1 and self.paper[i][j - 1] == 1 and self.paper[i - 1][j - 1])\n",
        "            or (i - 1 >= 0 and j + 1 < self.m and self.paper[i - 1][j + 1] == 1 and self.paper[i][j + 1] == 1 and self.paper[i - 1][j] == 1)\n",
        "            or (j - 1 >= 0 and i + 1 < self.n and self.paper[i][j - 1] == 1 and self.paper[i + 1][j] == 1 and self.paper[i + 1][j - 1] == 1)\n",
        "            or (i + 1 < self.n and j + 1 < self.m and self.paper[i][j + 1] == 1 and self.paper[i + 1][j] == 1 and self.paper[i + 1][j + 1] == 1)\n",
        "        ):\n",
        "            return True\n",
        "        return False\n",
        "\n",
        "    def solve(self):\n",
        "        \"\"\"\n",
        "        Every time Thang takes a step, we mark that step as 1 on the paper.\n",
        "        Meanwhile, we check if that step can complete a 2x2 square.\n",
        "        \"\"\"\n",
        "        for _ in range(self.k):\n",
        "            a, b = map(int, input().split())\n",
        "            if self.check(a - 1, b - 1):  # If the current step creates a completed square, set the flag to True and print the result.\n",
        "                self.flag = True\n",
        "                break\n",
        "            else:  # Otherwise, mark the current step on the paper as 1 and increase the step variable.\n",
        "                self.paper[a - 1][b - 1] = 1\n",
        "                self.step += 1\n",
        "        if self.flag:\n",
        "            print(self.step + 1)\n",
        "        else:\n",
        "            print(0)"
      ]
    },
    {
      "cell_type": "code",
      "source": [
        "prob = Problem()"
      ],
      "metadata": {
        "colab": {
          "base_uri": "https://localhost:8080/"
        },
        "id": "6eTW_UTZ758A",
        "outputId": "2abdcff4-8930-4d8c-9624-2e93277a8e0a"
      },
      "execution_count": 9,
      "outputs": [
        {
          "name": "stdout",
          "output_type": "stream",
          "text": [
            "2 2 4\n"
          ]
        }
      ]
    },
    {
      "cell_type": "code",
      "source": [
        "prob.solve()"
      ],
      "metadata": {
        "colab": {
          "base_uri": "https://localhost:8080/"
        },
        "id": "1bxred5F8hm1",
        "outputId": "5cf5b8d1-c73d-4feb-d71b-681481cc3f8b"
      },
      "execution_count": 10,
      "outputs": [
        {
          "output_type": "stream",
          "name": "stdout",
          "text": [
            "1 1\n",
            "1 2\n",
            "2 1\n",
            "2 2\n",
            "4\n"
          ]
        }
      ]
    }
  ]
}