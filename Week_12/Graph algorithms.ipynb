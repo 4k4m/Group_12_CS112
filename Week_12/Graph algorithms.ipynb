{
 "cells": [
  {
   "cell_type": "markdown",
   "id": "11a03049",
   "metadata": {},
   "source": [
    "# Graph algorithms"
   ]
  },
  {
   "cell_type": "markdown",
   "id": "98f07b00",
   "metadata": {},
   "source": [
    "## 1. Basics of graphs"
   ]
  },
  {
   "cell_type": "markdown",
   "id": "7e529ee4",
   "metadata": {},
   "source": [
    "### 1.1. Graph terminology"
   ]
  },
  {
   "cell_type": "markdown",
   "id": "6a4a7ba9",
   "metadata": {},
   "source": [
    "- Graph: a set of nodes (also called vertices) and edges connecting them\n",
    "- Here we use $G(V, E)$ to denote a certain graph $V$ is the set of vertices and $E$ is the set of edges. We call the number of vertices is $n$ and the number of edges is $m$.\n",
    "- Vertex: a point, represented by a dot\n",
    "- Edge: a line connecting 2 vertices\n",
    "- How is graph theory different to geometry? => We don't care about positional relation between nodes and vertices\n",
    "- Directed graph: a graph where each verex can only be traversed in one direction\n",
    "- Undirected graph: a graph where each verex can only be traversed in both directions\n",
    "- Here we are talking about single graphs only - graphs that do not have more than one edge between any two vertices and no edge starts and ends at the same vertex. For multigraph, further improvement can be done to fulfill the requirements."
   ]
  },
  {
   "cell_type": "markdown",
   "id": "a595a251",
   "metadata": {},
   "source": [
    "### 1.2. Graph representation"
   ]
  },
  {
   "cell_type": "markdown",
   "id": "3a01e9af",
   "metadata": {},
   "source": [
    "#### 1.2.1 Adjacency matrix"
   ]
  },
  {
   "cell_type": "code",
   "execution_count": 5,
   "id": "8da02cd5",
   "metadata": {},
   "outputs": [],
   "source": [
    "# Some code to implement adjacency matrix for an unweighed graph"
   ]
  },
  {
   "cell_type": "code",
   "execution_count": 6,
   "id": "b9e193b2",
   "metadata": {},
   "outputs": [],
   "source": [
    "# Some code to implement adjacency matrix for a weighed graph"
   ]
  },
  {
   "cell_type": "markdown",
   "id": "f56e2a89",
   "metadata": {},
   "source": [
    "Advantages:\n",
    "- Easy to implement\n",
    "- Easy to check for adjacency\n",
    "\n",
    "Disadvantages:\n",
    "- Waste of memory since space complexity is $O(n^2)$ and most of the allocated memory is use to store number 0\n",
    "- Waste of time to traverse to adjacent vertices or incident edges of a certain vertex since that must be done by checking all other vertices in the graph, even if the vertex have few or not have any adjacent vertices at all."
   ]
  },
  {
   "cell_type": "markdown",
   "id": "0f6490fe",
   "metadata": {},
   "source": [
    "#### 1.2.2 Edge list"
   ]
  },
  {
   "cell_type": "code",
   "execution_count": 9,
   "id": "af950903",
   "metadata": {},
   "outputs": [],
   "source": [
    "# Some code to implement edge list for a directed graph"
   ]
  },
  {
   "cell_type": "code",
   "execution_count": 10,
   "id": "e78126fe",
   "metadata": {},
   "outputs": [],
   "source": [
    "# Some code to implement edge list for an undirected graph"
   ]
  },
  {
   "cell_type": "markdown",
   "id": "586494b2",
   "metadata": {},
   "source": [
    "Advantages:\n",
    "- Save space if the graph is sparse (let's say $m < 6n$) since only $2m$ number must be stored\n",
    "- Easy to traverse all edges\n",
    "\n",
    "Disadvantages:\n",
    "- Waste of time to traverse to adjacent vertices or incident edges of a certain vertex since that must be done by traversing all edges in the graph."
   ]
  },
  {
   "cell_type": "markdown",
   "id": "f492031b",
   "metadata": {},
   "source": [
    "#### 1.2.1 Adjacency list"
   ]
  },
  {
   "cell_type": "code",
   "execution_count": 7,
   "id": "7363f1ab",
   "metadata": {},
   "outputs": [],
   "source": [
    "# Some code to implement adjacency list for a directed graph"
   ]
  },
  {
   "cell_type": "code",
   "execution_count": 8,
   "id": "4c14bb19",
   "metadata": {},
   "outputs": [],
   "source": [
    "# Some code to implement adjacency list for an undirected graph"
   ]
  },
  {
   "cell_type": "markdown",
   "id": "9d5cbfc9",
   "metadata": {},
   "source": [
    "Advantages:\n",
    "- Easy to traverse all vertices that are adjacent to a given vertex, which in turn easy to traverse all edges of the graph\n",
    "\n",
    "Disadvantages:\n",
    "- More difficult to implement"
   ]
  },
  {
   "cell_type": "code",
   "execution_count": null,
   "id": "a1feae7c",
   "metadata": {},
   "outputs": [],
   "source": []
  }
 ],
 "metadata": {
  "kernelspec": {
   "display_name": "Python 3 (ipykernel)",
   "language": "python",
   "name": "python3"
  },
  "language_info": {
   "codemirror_mode": {
    "name": "ipython",
    "version": 3
   },
   "file_extension": ".py",
   "mimetype": "text/x-python",
   "name": "python",
   "nbconvert_exporter": "python",
   "pygments_lexer": "ipython3",
   "version": "3.11.4"
  }
 },
 "nbformat": 4,
 "nbformat_minor": 5
}
