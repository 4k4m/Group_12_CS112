{
  "nbformat": 4,
  "nbformat_minor": 0,
  "metadata": {
    "colab": {
      "provenance": []
    },
    "kernelspec": {
      "name": "python3",
      "display_name": "Python 3"
    },
    "language_info": {
      "name": "python"
    }
  },
  "cells": [
    {
      "cell_type": "markdown",
      "source": [
        "##**Description**\n",
        "This notebook demonstrates the implementation of sequential merge sort and parallel merge sort, providing a comparison of execution times between the two methods."
      ],
      "metadata": {
        "id": "wI45a2KrxUgj"
      }
    },
    {
      "cell_type": "markdown",
      "source": [
        "## **Sequential merge sort**\n",
        "*Basic idea*: in sequential merge sort, the sorting process is done in a single thread or process.\n",
        "\n",
        "1/ Recursively divides the array into halves until each sub-array has one element.\n",
        "\n",
        "2/ Merges sorted sub-arrays back together."
      ],
      "metadata": {
        "id": "eDy4KpMNTtYZ"
      }
    },
    {
      "cell_type": "code",
      "source": [
        "# Sequential_merge_sort function with one parameter (the initial array) follows the divide-and-conquer strategy to recursively divide the input array into smaller sub-arrays.\n",
        "def sequential_merge_sort(array):\n",
        "  len_of_arr = len(array)\n",
        "  # Base case: If the array has only one element, it's already sorted\n",
        "  if len_of_arr == 1:\n",
        "    return array\n",
        "  # Calculate the midpoint index to divide the array into two parts\n",
        "  mid_idx = len_of_arr // 2\n",
        "  # Recursively divide the array into the left and right\n",
        "  left_arr = sequential_merge_sort(array[:mid_idx])\n",
        "  right_arr = sequential_merge_sort(array[mid_idx:])\n",
        "  # Merge the sorted left and right sub-arrays using merge_sorted_arrays function\n",
        "  return merge_sorted_arrays(left_arr, right_arr)"
      ],
      "metadata": {
        "id": "HJwTKlsIiVuz"
      },
      "execution_count": null,
      "outputs": []
    },
    {
      "cell_type": "code",
      "source": [
        "# Merge_sorted_arrays function with two parameters (first array and second array) describes how to merge two sub-arrays in ascending order.\n",
        "def merge_sorted_arrays(array_1, array_2):\n",
        "  result_array = [] #the merged result\n",
        "  len_of_arr_1 = len(array_1)\n",
        "  len_of_arr_2 = len(array_2)\n",
        "  idx_1 = 0\n",
        "  idx_2 = 0\n",
        "  # Compare elements from both arrays and merge them in ascending order\n",
        "  while idx_1 < len_of_arr_1 and idx_2 < len_of_arr_2:\n",
        "    # If the element in array_1 is smaller, append it to the result and move the index in array_1\n",
        "    if array_1[idx_1] < array_2[idx_2]:\n",
        "      result_array.append(array_1[idx_1])\n",
        "      idx_1 += 1\n",
        "    # If the element in array_2 is smaller or equal, append it to the result and move the index in array_2\n",
        "    else:\n",
        "      result_array.append(array_2[idx_2])\n",
        "      idx_2 += 1\n",
        "  # Append any remaining elements from array_1 (if any)\n",
        "  while idx_1 < len_of_arr_1:\n",
        "    result_array.append(array_1[idx_1])\n",
        "    idx_1 += 1\n",
        "  # Append any remaining elements from array_2 (if any)\n",
        "  while idx_2 < len_of_arr_2:\n",
        "    result_array.append(array_2[idx_2])\n",
        "    idx_2 += 1\n",
        "  return result_array # Return the merged and sorted result array"
      ],
      "metadata": {
        "id": "fJ608IqkvZ1-"
      },
      "execution_count": null,
      "outputs": []
    },
    {
      "cell_type": "markdown",
      "source": [
        "## **Parallel merge sort**\n",
        "*Basic idea*: Parallel merge sort is designed to take advantage of multiple processors or cores in a computer system. It distributes the sorting and merging tasks across multiple threads or processes, allowing multiple parts of the array to be sorted simultaneously. Once the smaller sub-arrays are sorted, they are merged in parallel to achieve faster sorting times."
      ],
      "metadata": {
        "id": "7u-EORJ1T0r0"
      }
    },
    {
      "cell_type": "code",
      "source": [
        "import multiprocessing as mp\n",
        "\n",
        "def parallel_merge_sort(array):\n",
        "  num_of_processes = mp.cpu_count() # the number of available cpu processes\n",
        "  len_of_array = len(array)\n",
        "  # If the array is smaller than the number of available processes, use sequential merge sort\n",
        "  if len_of_array < num_of_processes:\n",
        "    return sequential_merge_sort(array)\n",
        "  len_of_chunk = len_of_array // num_of_processes # the chunk size for dividing the array among processes\n",
        "\n",
        "  # Divide the input array into chunks\n",
        "  chunks = [array[idx : min(idx + len_of_chunk, len_of_array)] for idx in range(0, len_of_array, len_of_chunk)]\n",
        "  # Create multiple processes to perform sequential merge sort on each chunk\n",
        "  pool = mp.Pool(processes = num_of_processes)\n",
        "  # Apply sequential merge sort to each chunk using multiprocessing\n",
        "  results_of_chunk = pool.map(sequential_merge_sort, chunks)\n",
        "  result = [] # the result array\n",
        "  # Merge the sorted chunks back together\n",
        "  for sub_result in results_of_chunk:\n",
        "    result = merge_sorted_arrays(result, sub_result)\n",
        "  return result"
      ],
      "metadata": {
        "id": "oyEOcSI5if-z"
      },
      "execution_count": null,
      "outputs": []
    },
    {
      "cell_type": "markdown",
      "source": [
        "## **Measure execution time for each algorithm**"
      ],
      "metadata": {
        "id": "CnXTvGooT5T1"
      }
    },
    {
      "cell_type": "code",
      "source": [
        "import time\n",
        "import random\n",
        "import matplotlib.pyplot as plt\n",
        "\n",
        "# Test on different lengths of array\n",
        "len_to_test = [1, 3, 10, 30, 100, 300, 1000, 3000, 10000, 30000, 100000, 300000, 1000000, 3000000, 10000000, 30000000]\n",
        "time_for_sequential = []\n",
        "time_for_parallel = []\n",
        "for len_of_array in len_to_test:\n",
        "  array = [random.randint(0, len_of_array) for _ in range(len_of_array)] # A random array of the specified length\n",
        "  # Measuring the time for executing sequential merge sort\n",
        "  start_time = time.time()\n",
        "  _ = sequential_merge_sort(array)\n",
        "  end_time = time.time()\n",
        "  time_for_sequential.append(end_time - start_time)\n",
        "  # Measuring the time for executing parallel merge sort\n",
        "  start_time = time.time()\n",
        "  _ = parallel_merge_sort(array)\n",
        "  end_time = time.time()\n",
        "  time_for_parallel.append(end_time - start_time)\n",
        "# Plot the result\n",
        "plt.semilogx(len_to_test, time_for_sequential, color = 'blue')\n",
        "plt.semilogx(len_to_test, time_for_parallel, color = 'red')\n",
        "plt.xlabel('Length of Array')\n",
        "plt.ylabel('Execution Time (s)')\n",
        "plt.show()"
      ],
      "metadata": {
        "id": "F3i2AXM9F264",
        "outputId": "14aba429-e308-4ff9-cbad-dd95ff819779",
        "colab": {
          "base_uri": "https://localhost:8080/",
          "height": 454
        }
      },
      "execution_count": null,
      "outputs": [
        {
          "output_type": "display_data",
          "data": {
            "text/plain": [
              "<Figure size 640x480 with 1 Axes>"
            ],
            "image/png": "[encoded data removed]"
          },
          "metadata": {}
        }
      ]
    }
  ]
}