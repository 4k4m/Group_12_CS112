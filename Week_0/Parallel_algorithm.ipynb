{
  "metadata": {
    "colab": {
      "provenance": []
    },
    "kernelspec": {
      "name": "python3",
      "display_name": "Python 3",
      "language": "python"
    },
    "language_info": {
      "name": "python",
      "version": "3.10.12",
      "mimetype": "text/x-python",
      "codemirror_mode": {
        "name": "ipython",
        "version": 3
      },
      "pygments_lexer": "ipython3",
      "nbconvert_exporter": "python",
      "file_extension": ".py"
    }
  },
  "nbformat_minor": 0,
  "nbformat": 4,
  "cells": [
    {
      "cell_type": "markdown",
      "source": [
        "## **Description**\n",
        "This notebook demonstrates the implementation of sequential merge sort and parallel merge sort, providing a comparison of execution times between the two methods."
      ],
      "metadata": {
        "id": "wI45a2KrxUgj"
      }
    },
    {
      "cell_type": "markdown",
      "source": [
        "## **Sequential merge sort**\n",
        "*Basic idea*: in sequential merge sort, the sorting process is done in a single thread or process.\n",
        "\n",
        "1/ Recursively divides the array into halves until each sub-array has one element.\n",
        "\n",
        "2/ Merges sorted sub-arrays back together."
      ],
      "metadata": {
        "id": "eDy4KpMNTtYZ"
      }
    },
    {
      "cell_type": "code",
      "source": [
        "# Sequential_merge_sort function with one parameter (the initial array)\n",
        "# follows the divide-and-conquer strategy to recursively divide the input array into smaller sub-arrays.\n",
        "def sequential_merge_sort(array):\n",
        "  len_of_arr = len(array)\n",
        "  # Base case: If the array has only one element, it's already sorted\n",
        "  if len_of_arr == 1:\n",
        "    return array\n",
        "  # Calculate the midpoint index to divide the array into two parts\n",
        "  mid_idx = len_of_arr // 2\n",
        "  # Recursively divide the array into the left and right\n",
        "  left_arr = sequential_merge_sort(array[:mid_idx])\n",
        "  right_arr = sequential_merge_sort(array[mid_idx:])\n",
        "  # Merge the sorted left and right sub-arrays using merge_sorted_arrays function\n",
        "  return merge_sorted_arrays(left_arr, right_arr)"
      ],
      "metadata": {
        "id": "HJwTKlsIiVuz",
        "execution": {
          "iopub.status.busy": "2023-09-27T15:54:17.506854Z",
          "iopub.execute_input": "2023-09-27T15:54:17.507517Z",
          "iopub.status.idle": "2023-09-27T15:54:17.548468Z",
          "shell.execute_reply.started": "2023-09-27T15:54:17.507479Z",
          "shell.execute_reply": "2023-09-27T15:54:17.547320Z"
        },
        "trusted": true
      },
      "execution_count": null,
      "outputs": []
    },
    {
      "cell_type": "code",
      "source": [
        "# Merge_sorted_arrays function with two parameters (first array and second array)\n",
        "# describes how to merge two sub-arrays in ascending order.\n",
        "def merge_sorted_arrays(array_1, array_2):\n",
        "  result_array = [] #the merged result\n",
        "  len_of_arr_1 = len(array_1)\n",
        "  len_of_arr_2 = len(array_2)\n",
        "  idx_1 = 0\n",
        "  idx_2 = 0\n",
        "  # Compare elements from both arrays and merge them in ascending order\n",
        "  while idx_1 < len_of_arr_1 and idx_2 < len_of_arr_2:\n",
        "    # If the element in array_1 is smaller,\n",
        "    # append it to the result and move the index in array_1\n",
        "    if array_1[idx_1] < array_2[idx_2]:\n",
        "      result_array.append(array_1[idx_1])\n",
        "      idx_1 += 1\n",
        "    # If the element in array_2 is smaller or equal,\n",
        "    # append it to the result and move the index in array_2\n",
        "    else:\n",
        "      result_array.append(array_2[idx_2])\n",
        "      idx_2 += 1\n",
        "  # Append any remaining elements from array_1 (if any)\n",
        "  while idx_1 < len_of_arr_1:\n",
        "    result_array.append(array_1[idx_1])\n",
        "    idx_1 += 1\n",
        "  # Append any remaining elements from array_2 (if any)\n",
        "  while idx_2 < len_of_arr_2:\n",
        "    result_array.append(array_2[idx_2])\n",
        "    idx_2 += 1\n",
        "  return result_array # Return the merged and sorted result array"
      ],
      "metadata": {
        "id": "fJ608IqkvZ1-",
        "execution": {
          "iopub.status.busy": "2023-09-27T15:54:17.550455Z",
          "iopub.execute_input": "2023-09-27T15:54:17.551115Z",
          "iopub.status.idle": "2023-09-27T15:54:17.559275Z",
          "shell.execute_reply.started": "2023-09-27T15:54:17.551078Z",
          "shell.execute_reply": "2023-09-27T15:54:17.558192Z"
        },
        "trusted": true
      },
      "execution_count": null,
      "outputs": []
    },
    {
      "cell_type": "markdown",
      "source": [
        "## **Parallel merge sort**\n",
        "*Basic idea*: Parallel merge sort is designed to take advantage of multiple processors or cores in a computer system. It distributes the sorting and merging tasks across multiple threads or processes, allowing multiple parts of the array to be sorted simultaneously. Once the smaller sub-arrays are sorted, they are merged in parallel to achieve faster sorting times."
      ],
      "metadata": {
        "id": "7u-EORJ1T0r0"
      }
    },
    {
      "cell_type": "code",
      "source": [
        "import multiprocessing as mp\n",
        "\n",
        "def parallel_merge_sort(array):\n",
        "  num_of_processes = mp.cpu_count() # the number of available cpu processes\n",
        "  len_of_array = len(array)\n",
        "  # If the array is smaller than the number of available processes, use sequential merge sort\n",
        "  if len_of_array < num_of_processes:\n",
        "    return sequential_merge_sort(array)\n",
        "  len_of_chunk = len_of_array // num_of_processes # the chunk size for dividing the array among processes\n",
        "\n",
        "  # Divide the input array into chunks\n",
        "  chunks = [array[idx : min(idx + len_of_chunk, len_of_array)] for idx in range(0, len_of_array, len_of_chunk)]\n",
        "  # Create multiple processes to perform sequential merge sort on each chunk\n",
        "  pool = mp.Pool(processes = num_of_processes)\n",
        "  # Apply sequential merge sort to each chunk using multiprocessing\n",
        "  results_of_chunk = pool.map(sequential_merge_sort, chunks)\n",
        "  result = [] # the result array\n",
        "  # Merge the sorted chunks back together\n",
        "  for sub_result in results_of_chunk:\n",
        "    result = merge_sorted_arrays(result, sub_result)\n",
        "  return result"
      ],
      "metadata": {
        "id": "oyEOcSI5if-z",
        "execution": {
          "iopub.status.busy": "2023-09-27T15:54:17.560916Z",
          "iopub.execute_input": "2023-09-27T15:54:17.561241Z",
          "iopub.status.idle": "2023-09-27T15:54:17.577830Z",
          "shell.execute_reply.started": "2023-09-27T15:54:17.561214Z",
          "shell.execute_reply": "2023-09-27T15:54:17.576675Z"
        },
        "trusted": true
      },
      "execution_count": null,
      "outputs": []
    },
    {
      "cell_type": "markdown",
      "source": [
        "## **Measure execution time for each algorithm**"
      ],
      "metadata": {
        "id": "CnXTvGooT5T1"
      }
    },
    {
      "cell_type": "code",
      "source": [
        "import time\n",
        "import random\n",
        "from tabulate import tabulate\n",
        "import matplotlib.pyplot as plt\n",
        "\n",
        "# Test on different lengths of array\n",
        "len_to_test = [1, 3, 10, 30, 100, 300, 1000, 3000, 10000, 30000, 100000, 300000, 1000000, 3000000, 10000000, 30000000]\n",
        "time_for_sequential = []\n",
        "time_for_parallel = []\n",
        "for len_of_array in len_to_test:\n",
        "  random.seed(12)\n",
        "  array = [random.randint(0, len_of_array) for _ in range(len_of_array)] # A random array of the specified length\n",
        "  # Measuring the time for executing sequential merge sort\n",
        "  start_time = time.time()\n",
        "  _ = sequential_merge_sort(array)\n",
        "  end_time = time.time()\n",
        "  time_for_sequential.append(end_time - start_time)\n",
        "  # Measuring the time for executing parallel merge sort\n",
        "  start_time = time.time()\n",
        "  _ = parallel_merge_sort(array)\n",
        "  end_time = time.time()\n",
        "  time_for_parallel.append(end_time - start_time)\n",
        "# Print out the result\n",
        "print(tabulate(list(zip(len_to_test, time_for_sequential, time_for_parallel)),\n",
        "               headers = ['Length of array', 'Sequential merge sort time (s)', 'Parallel merge sort time (s)']))\n",
        "# Plot the result\n",
        "plt.semilogx(len_to_test, time_for_sequential, color = 'blue', label = 'Sequential merge sort')\n",
        "plt.semilogx(len_to_test, time_for_parallel, color = 'red', label = 'Parallel merge sort')\n",
        "plt.xlabel('Length of Array')\n",
        "plt.ylabel('Execution Time (s)')\n",
        "plt.legend(loc = 'upper left')\n",
        "plt.show()"
      ],
      "metadata": {
        "id": "F3i2AXM9F264",
        "outputId": "550b62de-5e86-4886-ad97-aadd40b638fb",
        "colab": {
          "base_uri": "https://localhost:8080/",
          "height": 766
        },
        "execution": {
          "iopub.status.busy": "2023-09-27T15:54:17.580186Z",
          "iopub.execute_input": "2023-09-27T15:54:17.580813Z",
          "iopub.status.idle": "2023-09-27T16:09:11.375552Z",
          "shell.execute_reply.started": "2023-09-27T15:54:17.580782Z",
          "shell.execute_reply": "2023-09-27T16:09:11.374200Z"
        },
        "trusted": true
      },
      "execution_count": null,
      "outputs": [
        {
          "output_type": "stream",
          "name": "stdout",
          "text": [
            "  Length of array    Sequential merge sort time (s)    Parallel merge sort time (s)\n",
            "-----------------  --------------------------------  ------------------------------\n",
            "                1                       3.09944e-06                     9.67979e-05\n",
            "                3                       1.09673e-05                     0.0299716\n",
            "               10                       3.05176e-05                     0.0235894\n",
            "               30                       6.7234e-05                      0.0312216\n",
            "              100                       0.00030756                      0.0235088\n",
            "              300                       0.000791311                     0.0241296\n",
            "             1000                       0.00289631                      0.0268481\n",
            "             3000                       0.0101073                       0.0367005\n",
            "            10000                       0.0363932                       0.0644937\n",
            "            30000                       0.14345                         0.164173\n",
            "           100000                       0.50053                         0.537543\n",
            "           300000                       2.71839                         1.62826\n",
            "          1000000                       5.97409                         7.37698\n",
            "          3000000                      22.4837                         20.4353\n",
            "         10000000                      83.0761                         77.9513\n",
            "         30000000                     272.315                         250.765\n"
          ]
        },
        {
          "output_type": "display_data",
          "data": {
            "text/plain": [
              "<Figure size 640x480 with 1 Axes>"
            ],
            "image/png": "[encoded data removed]"
          },
          "metadata": {}
        }
      ]
    }
  ]
}