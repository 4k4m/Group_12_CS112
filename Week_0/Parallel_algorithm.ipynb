{
  "nbformat": 4,
  "nbformat_minor": 0,
  "metadata": {
    "colab": {
      "provenance": [],
      "authorship_tag": "ABX9TyPswuWMp+DBmpuNIg+8Nt22",
      "include_colab_link": true
    },
    "kernelspec": {
      "name": "python3",
      "display_name": "Python 3"
    },
    "language_info": {
      "name": "python"
    }
  },
  "cells": [
    {
      "cell_type": "markdown",
      "metadata": {
        "id": "view-in-github",
        "colab_type": "text"
      },
      "source": [
        "<a href=\"https://colab.research.google.com/github/4k4m/Group_12_CS112/blob/main/Week_0/Parallel_algorithm.ipynb\" target=\"_parent\"><img src=\"https://colab.research.google.com/assets/colab-badge.svg\" alt=\"Open In Colab\"/></a>"
      ]
    },
    {
      "cell_type": "code",
      "execution_count": 2,
      "metadata": {
        "colab": {
          "base_uri": "https://localhost:8080/"
        },
        "id": "ui078ImYhZJb",
        "outputId": "8696678c-9e8f-4bf0-dd0a-b2a6dfb65c6e"
      },
      "outputs": [
        {
          "output_type": "execute_result",
          "data": {
            "text/plain": [
              "2"
            ]
          },
          "metadata": {},
          "execution_count": 2
        }
      ],
      "source": [
        "import multiprocessing as mp\n",
        "mp.cpu_count()"
      ]
    },
    {
      "cell_type": "code",
      "source": [
        "def merge_sorted_arrays(array_1, array_2):\n",
        "  sorted_list = []\n",
        "  len_of_arr_1 = array_1.__len__()\n",
        "  len_of_arr_2 = array_2.__len__()\n",
        "  idx_1 = 0\n",
        "  idx_2 = 0\n",
        "  while idx_1 < len_of_arr_1 and idx_2 < len_of_arr_2:\n",
        "    if array_1[idx_1] < array_2[idx_2]:\n",
        "      sorted_list.append(array_1[idx_1])\n",
        "      idx_1 += 1\n",
        "    else:\n",
        "      sorted_list.append(array_2[idx_2])\n",
        "      idx_2 += 1\n",
        "  while idx_1 < len_of_arr_1:\n",
        "    sorted_list.append(array_1[idx_1])\n",
        "    idx_1 += 1\n",
        "  while idx_2 < len_of_arr_2:\n",
        "    sorted_list.append(array_2[idx_2])\n",
        "    idx_2 += 1\n",
        "  return sorted_list"
      ],
      "metadata": {
        "id": "fJ608IqkvZ1-"
      },
      "execution_count": 3,
      "outputs": []
    },
    {
      "cell_type": "code",
      "source": [
        "import random\n",
        "list_1 = []\n",
        "for _ in range(50):\n",
        "  list_1.append(random.randint(0, 10))\n",
        "list_1 = sorted(list_1)\n",
        "list_2 = []\n",
        "for _ in range(25):\n",
        "  list_2.append(random.randint(0, 10))\n",
        "list_2 = sorted(list_2)\n",
        "print(merge_sorted_arrays(list_1, list_2))"
      ],
      "metadata": {
        "colab": {
          "base_uri": "https://localhost:8080/"
        },
        "id": "oIJHiulWvfpD",
        "outputId": "c22626c6-0c23-4efa-85d1-e991b8c2f71d"
      },
      "execution_count": 4,
      "outputs": [
        {
          "output_type": "stream",
          "name": "stdout",
          "text": [
            "[0, 0, 0, 0, 0, 0, 0, 0, 0, 0, 1, 1, 1, 1, 2, 2, 2, 2, 2, 2, 2, 2, 2, 3, 3, 3, 3, 3, 3, 3, 4, 4, 4, 4, 4, 4, 4, 4, 5, 5, 5, 5, 5, 6, 6, 6, 6, 6, 7, 7, 7, 7, 7, 7, 8, 8, 8, 8, 8, 8, 8, 8, 9, 9, 9, 9, 10, 10, 10, 10, 10, 10, 10, 10, 10]\n"
          ]
        }
      ]
    },
    {
      "cell_type": "code",
      "source": [
        "def sequential_merge_sort(array):\n",
        "  len_of_arr = array.__len__()\n",
        "  if len_of_arr == 1:\n",
        "    return array\n",
        "  mid_idx = len_of_arr // 2\n",
        "  left_arr = sequential_merge_sort(array[:mid_idx])\n",
        "  right_arr = sequential_merge_sort(array[mid_idx:])\n",
        "  return merge_sorted_arrays(left_arr, right_arr)"
      ],
      "metadata": {
        "id": "HJwTKlsIiVuz"
      },
      "execution_count": 5,
      "outputs": []
    },
    {
      "cell_type": "code",
      "source": [
        "list_1 = []\n",
        "for _ in range(105):\n",
        "  list_1.append(random.randint(0, 100))\n",
        "result_1 = sequential_merge_sort(list_1)"
      ],
      "metadata": {
        "id": "LLMQmX3kxHcL"
      },
      "execution_count": 20,
      "outputs": []
    },
    {
      "cell_type": "code",
      "source": [
        "def parallel_merge_sort(num_array):\n",
        "  num_of_processes = mp.cpu_count()\n",
        "  len_of_array = num_array.__len__()\n",
        "  len_of_chunk = len_of_array // num_of_processes\n",
        "  pool = mp.Pool()\n",
        "  chunks = [num_array[idx : min(idx + len_of_chunk, len_of_array)] for idx in range(0, len_of_array, len_of_chunk)]\n",
        "  pool = mp.Pool(processes = num_of_processes)\n",
        "  results_of_chunk = pool.map(sequential_merge_sort, chunks)\n",
        "  result = []\n",
        "  for sub_result in results_of_chunk:\n",
        "    result = merge_sorted_arrays(result, sub_result)\n",
        "  return result"
      ],
      "metadata": {
        "id": "oyEOcSI5if-z"
      },
      "execution_count": 11,
      "outputs": []
    },
    {
      "cell_type": "code",
      "source": [
        "result_2 = parallel_merge_sort(list_1)\n",
        "correct_result = sorted(list_1)\n",
        "print(correct_result)\n",
        "print(result_1)\n",
        "if (correct_result == result_1):\n",
        "  print('Sequential merge sort is correct')\n",
        "if (correct_result == result_2):\n",
        "  print('Parallel merge sort is correct')"
      ],
      "metadata": {
        "colab": {
          "base_uri": "https://localhost:8080/"
        },
        "id": "KOsSk4splQJ-",
        "outputId": "a796b4bb-418c-48e3-e33f-80b4a7628d97"
      },
      "execution_count": 21,
      "outputs": [
        {
          "output_type": "stream",
          "name": "stdout",
          "text": [
            "[0, 0, 0, 2, 3, 5, 6, 7, 9, 13, 21, 21, 24, 25, 26, 28, 28, 29, 30, 30, 30, 30, 34, 34, 35, 36, 36, 37, 37, 38, 38, 39, 40, 41, 41, 41, 41, 42, 42, 42, 42, 42, 43, 45, 45, 46, 47, 48, 50, 51, 51, 51, 51, 53, 53, 54, 54, 54, 55, 56, 57, 57, 58, 58, 59, 61, 62, 62, 62, 62, 64, 68, 69, 70, 71, 71, 73, 74, 74, 75, 76, 77, 79, 80, 80, 80, 82, 82, 83, 83, 86, 88, 89, 89, 90, 91, 92, 92, 93, 95, 96, 97, 97, 98, 100]\n",
            "[0, 0, 0, 2, 3, 5, 6, 7, 9, 13, 21, 21, 24, 25, 26, 28, 28, 29, 30, 30, 30, 30, 34, 34, 35, 36, 36, 37, 37, 38, 38, 39, 40, 41, 41, 41, 41, 42, 42, 42, 42, 42, 43, 45, 45, 46, 47, 48, 50, 51, 51, 51, 51, 53, 53, 54, 54, 54, 55, 56, 57, 57, 58, 58, 59, 61, 62, 62, 62, 62, 64, 68, 69, 70, 71, 71, 73, 74, 74, 75, 76, 77, 79, 80, 80, 80, 82, 82, 83, 83, 86, 88, 89, 89, 90, 91, 92, 92, 93, 95, 96, 97, 97, 98, 100]\n",
            "Sequential merge sort is correct\n",
            "Parallel merge sort is correct\n"
          ]
        }
      ]
    }
  ]
}